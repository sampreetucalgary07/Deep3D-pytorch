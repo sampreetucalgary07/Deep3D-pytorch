{
 "cells": [
  {
   "cell_type": "code",
   "execution_count": 1,
   "metadata": {},
   "outputs": [],
   "source": [
    "import glob\n",
    "from PIL import Image\n",
    "import subprocess\n",
    "import os\n",
    "from tqdm import tqdm\n",
    "from LR_frameModules import *"
   ]
  },
  {
   "cell_type": "code",
   "execution_count": 5,
   "metadata": {},
   "outputs": [],
   "source": [
    "mp4_file_path = \"\""
   ]
  },
  {
   "cell_type": "code",
   "execution_count": 6,
   "metadata": {},
   "outputs": [],
   "source": [
    "ffmpeg = \"/usr/bin/ffmpeg\"\n",
    "ffprobe = \"/usr/bin/ffprobe\""
   ]
  },
  {
   "cell_type": "code",
   "execution_count": 7,
   "metadata": {},
   "outputs": [],
   "source": [
    "def video_trim(mp4_file_path, start, end):\n",
    "    \"\"\"\n",
    "    Function to trim the video\n",
    "    \"\"\"\n",
    "    out_mp4 = './trimmed_video.mp4'\n",
    "    command = [\n",
    "        'ffmpeg',\n",
    "        '-i', mp4_file_path, # Input video file path\n",
    "        '-ss', start,      # Best quality audio\n",
    "        '-to', end,      # Extract all audio streams\n",
    "        '-c:v', 'copy',\n",
    "        '-c:a','copy',\n",
    "        out_mp4\n",
    "                        # Output audio file path\n",
    "    ]   \n",
    "    print(f'\\nTrimmed video saved at {out_mp4}')\n",
    "    subprocess.run(command)"
   ]
  },
  {
   "cell_type": "code",
   "execution_count": 14,
   "metadata": {},
   "outputs": [
    {
     "name": "stdout",
     "output_type": "stream",
     "text": [
      "\n",
      "Trimmed video saved at ./trimmed_video.mp4\n"
     ]
    },
    {
     "name": "stderr",
     "output_type": "stream",
     "text": [
      "ffmpeg version 4.2.7-0ubuntu0.1 Copyright (c) 2000-2022 the FFmpeg developers\n",
      "  built with gcc 9 (Ubuntu 9.4.0-1ubuntu1~20.04.1)\n",
      "  configuration: --prefix=/usr --extra-version=0ubuntu0.1 --toolchain=hardened --libdir=/usr/lib/x86_64-linux-gnu --incdir=/usr/include/x86_64-linux-gnu --arch=amd64 --enable-gpl --disable-stripping --enable-avresample --disable-filter=resample --enable-avisynth --enable-gnutls --enable-ladspa --enable-libaom --enable-libass --enable-libbluray --enable-libbs2b --enable-libcaca --enable-libcdio --enable-libcodec2 --enable-libflite --enable-libfontconfig --enable-libfreetype --enable-libfribidi --enable-libgme --enable-libgsm --enable-libjack --enable-libmp3lame --enable-libmysofa --enable-libopenjpeg --enable-libopenmpt --enable-libopus --enable-libpulse --enable-librsvg --enable-librubberband --enable-libshine --enable-libsnappy --enable-libsoxr --enable-libspeex --enable-libssh --enable-libtheora --enable-libtwolame --enable-libvidstab --enable-libvorbis --enable-libvpx --enable-libwavpack --enable-libwebp --enable-libx265 --enable-libxml2 --enable-libxvid --enable-libzmq --enable-libzvbi --enable-lv2 --enable-omx --enable-openal --enable-opencl --enable-opengl --enable-sdl2 --enable-libdc1394 --enable-libdrm --enable-libiec61883 --enable-nvenc --enable-chromaprint --enable-frei0r --enable-libx264 --enable-shared\n",
      "  libavutil      56. 31.100 / 56. 31.100\n",
      "  libavcodec     58. 54.100 / 58. 54.100\n",
      "  libavformat    58. 29.100 / 58. 29.100\n",
      "  libavdevice    58.  8.100 / 58.  8.100\n",
      "  libavfilter     7. 57.100 /  7. 57.100\n",
      "  libavresample   4.  0.  0 /  4.  0.  0\n",
      "  libswscale      5.  5.100 /  5.  5.100\n",
      "  libswresample   3.  5.100 /  3.  5.100\n",
      "  libpostproc    55.  5.100 / 55.  5.100\n",
      "Input #0, mov,mp4,m4a,3gp,3g2,mj2, from '/home/tensorflow/personal/stereo_implementation/source_videos/roller_coster_game.mp4':\n",
      "  Metadata:\n",
      "    major_brand     : isom\n",
      "    minor_version   : 512\n",
      "    compatible_brands: isomiso2avc1mp41\n",
      "    encoder         : Lavf58.19.102\n",
      "  Duration: 00:06:06.34, start: 0.000000, bitrate: 5573 kb/s\n",
      "    Stream #0:0(und): Video: h264 (High) (avc1 / 0x31637661), yuv420p(tv, bt709), 1920x1080 [SAR 1:1 DAR 16:9], 5436 kb/s, 60 fps, 60 tbr, 90k tbn, 120 tbc (default)\n",
      "    Metadata:\n",
      "      handler_name    : VideoHandler\n",
      "    Stream #0:1(und): Audio: aac (LC) (mp4a / 0x6134706D), 44100 Hz, stereo, fltp, 125 kb/s (default)\n",
      "    Metadata:\n",
      "      handler_name    : SoundHandler\n",
      "Output #0, mp4, to './trimmed_video.mp4':\n",
      "  Metadata:\n",
      "    major_brand     : isom\n",
      "    minor_version   : 512\n",
      "    compatible_brands: isomiso2avc1mp41\n",
      "    encoder         : Lavf58.29.100\n",
      "    Stream #0:0(und): Video: h264 (High) (avc1 / 0x31637661), yuv420p(tv, bt709), 1920x1080 [SAR 1:1 DAR 16:9], q=2-31, 5436 kb/s, 60 fps, 60 tbr, 90k tbn, 90k tbc (default)\n",
      "    Metadata:\n",
      "      handler_name    : VideoHandler\n",
      "    Stream #0:1(und): Audio: aac (LC) (mp4a / 0x6134706D), 44100 Hz, stereo, fltp, 125 kb/s (default)\n",
      "    Metadata:\n",
      "      handler_name    : SoundHandler\n",
      "Stream mapping:\n",
      "  Stream #0:0 -> #0:0 (copy)\n",
      "  Stream #0:1 -> #0:1 (copy)\n",
      "Press [q] to stop, [?] for help\n",
      "frame=10440 fps=0.0 q=-1.0 Lsize=  119995kB time=00:02:53.99 bitrate=5649.7kbits/s speed= 989x    \n",
      "video:117065kB audio:2667kB subtitle:0kB other streams:0kB global headers:0kB muxing overhead: 0.219249%\n"
     ]
    }
   ],
   "source": [
    "start = str(15)\n",
    "end = str(75)\n",
    "video_trim(mp4_file_path, start, end)"
   ]
  },
  {
   "cell_type": "code",
   "execution_count": 8,
   "metadata": {},
   "outputs": [],
   "source": [
    "def diff_LR_frames(mp4_file_path):\n",
    "    basename = os.path.basename(mp4_file_path)  # Extract the filename: 'voyager.mp4'\n",
    "    name, _ = os.path.splitext(basename)  # Split the extension: 'voyager'\n",
    "    output_folder = (\n",
    "        name + \"_frames\"\n",
    "    )  # name of the folder to save the original frames\n",
    "    output_folder_LR = (\n",
    "        name + \"_LRframes\"\n",
    "    )  # name of the folder to save the LR frames\n",
    "    video_to_frames(mp4_file_path, output_folder)\n",
    "    make_folder(output_folder_LR)\n",
    "    images = sorted(glob.glob(\"./\" + output_folder + \"/*.jpg\"))\n",
    "    number = 1\n",
    "    print(\"\\nExtracting L-eye and R-eye image from the frames...\\n\")\n",
    "    for image_path in tqdm(\n",
    "        images, desc=\"processing\", ascii=False, ncols=100, total=len(images)\n",
    "    ):\n",
    "        image = Image.open(image_path)\n",
    "        width, height = image.size\n",
    "        left_half = (0, 0, width // 2, height)\n",
    "        right_half = (width // 2, 0, width, height)\n",
    "        left_image = image.crop(left_half)\n",
    "        right_image = image.crop(right_half)\n",
    "        formatted_number = \"{:07}\".format(number)\n",
    "        left_image.save(\n",
    "            \"./\" + output_folder_LR + \"/out-\" + str(formatted_number) + \"L.jpg\"\n",
    "        )\n",
    "        right_image.save(\n",
    "            \"./\" + output_folder_LR + \"/out-\" + str(formatted_number) + \"R.jpg\"\n",
    "        )\n",
    "        number += 1\n",
    "    print(f\"\\nL-eye and R-eye separate frames saved in the folder \", output_folder_LR)\n"
   ]
  },
  {
   "cell_type": "code",
   "execution_count": 9,
   "metadata": {},
   "outputs": [
    {
     "name": "stdout",
     "output_type": "stream",
     "text": [
      "\n",
      "Folder named trimmed_video_frames created! \n",
      "\n",
      "\n",
      "Extracting frames from Video...\n",
      "\n",
      "\n",
      "Video frames saved in the folder  trimmed_video_frames\n",
      "\n",
      "Folder named trimmed_video_LRframes created! \n",
      "\n",
      "\n",
      "Extracting L-eye and R-eye image from the frames...\n",
      "\n"
     ]
    },
    {
     "name": "stderr",
     "output_type": "stream",
     "text": [
      "processing: 100%|█████████████████████████████████████████████| 10441/10441 [04:43<00:00, 36.88it/s]"
     ]
    },
    {
     "name": "stdout",
     "output_type": "stream",
     "text": [
      "\n",
      "L-eye and R-eye separate frames saved in the folder  trimmed_video_LRframes\n"
     ]
    },
    {
     "name": "stderr",
     "output_type": "stream",
     "text": [
      "\n"
     ]
    }
   ],
   "source": [
    "mp4_file_path = '/home/tensorflow/personal/stereo_implementation/trimmed_video.mp4'\n",
    "diff_LR_frames(mp4_file_path)"
   ]
  },
  {
   "cell_type": "code",
   "execution_count": null,
   "metadata": {},
   "outputs": [],
   "source": []
  }
 ],
 "metadata": {
  "kernelspec": {
   "display_name": "Python 3 (ipykernel)",
   "language": "python",
   "name": "python3"
  },
  "language_info": {
   "codemirror_mode": {
    "name": "ipython",
    "version": 3
   },
   "file_extension": ".py",
   "mimetype": "text/x-python",
   "name": "python",
   "nbconvert_exporter": "python",
   "pygments_lexer": "ipython3",
   "version": "3.10.12"
  }
 },
 "nbformat": 4,
 "nbformat_minor": 4
}
